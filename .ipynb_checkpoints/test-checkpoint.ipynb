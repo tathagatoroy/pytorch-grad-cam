{
 "cells": [
  {
   "cell_type": "code",
   "execution_count": 2,
   "id": "128b3e26-bb51-438b-9364-b22f4ae20a6a",
   "metadata": {},
   "outputs": [],
   "source": [
    "import torch\n",
    "import torchvision\n",
    "import os\n",
    "import sys\n",
    "import time\n",
    "import cv2\n",
    "import numpy as np\n",
    "import pytorch_grad_cam\n",
    "import pickle\n",
    "import json\n",
    "%matplotlib inline\n",
    "import matplotlib"
   ]
  },
  {
   "cell_type": "code",
   "execution_count": 9,
   "id": "230f7a82-71b6-49a9-b0e4-04febd504203",
   "metadata": {},
   "outputs": [],
   "source": [
    "dataset_directory = \"./../DREYEVE_DATA_OUTPUTS/02/\"\n",
    "data_path = os.path.join(dataset_directory,\"data.json\")\n",
    "f = open(data_path)\n",
    "data = json.load(f)"
   ]
  },
  {
   "cell_type": "code",
   "execution_count": 10,
   "id": "239c2d1d-08e2-45fa-80d9-a54679a22c04",
   "metadata": {},
   "outputs": [
    {
     "data": {
      "text/plain": [
       "<_io.TextIOWrapper name='./../DREYEVE_DATA_OUTPUTS/02/data.json' mode='r' encoding='UTF-8'>"
      ]
     },
     "execution_count": 10,
     "metadata": {},
     "output_type": "execute_result"
    }
   ],
   "source": [
    "f\n"
   ]
  },
  {
   "cell_type": "code",
   "execution_count": null,
   "id": "da527421-7521-4579-96a9-63991ef54307",
   "metadata": {},
   "outputs": [],
   "source": []
  }
 ],
 "metadata": {
  "kernelspec": {
   "display_name": "Python 3 (ipykernel)",
   "language": "python",
   "name": "python3"
  },
  "language_info": {
   "codemirror_mode": {
    "name": "ipython",
    "version": 3
   },
   "file_extension": ".py",
   "mimetype": "text/x-python",
   "name": "python",
   "nbconvert_exporter": "python",
   "pygments_lexer": "ipython3",
   "version": "3.7.13"
  }
 },
 "nbformat": 4,
 "nbformat_minor": 5
}
