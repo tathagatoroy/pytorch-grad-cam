{
 "cells": [
  {
   "cell_type": "code",
   "execution_count": 2,
   "id": "2ff9eba7-36e6-4648-aa95-f01dcbaa075e",
   "metadata": {},
   "outputs": [],
   "source": [
    "import torch\n",
    "import torchvision\n",
    "import os\n",
    "import sys\n",
    "import time\n",
    "import cv2\n",
    "import numpy as np\n",
    "import pytorch_grad_cam\n",
    "import pickle\n",
    "import json\n",
    "%matplotlib inline\n",
    "import matplotlib.pyplot as plt"
   ]
  },
  {
   "cell_type": "code",
   "execution_count": 11,
   "id": "bb6202f6-29d3-47e5-b0a4-ad61eec73b7b",
   "metadata": {},
   "outputs": [],
   "source": [
    "def load_RGB(img_path):\n",
    "    img = cv2.cvtColor(cv2.imread(img_path, cv2.IMREAD_UNCHANGED),cv2.COLOR_BGR2RGB)\n",
    "    return img\n",
    "def load_gray(img_path):\n",
    "    return cv2.imread(img_path,cv2.IMREAD_UNCHANGED)\n",
    "def get_images(dataset, video_index, image_index):\n",
    "    \n",
    "    video_name = str(video_index)\n",
    "    if video_index <= 9:\n",
    "        video_name = \"0\" + str(video_index)\n",
    "    video_directory = os.path.join(dataset,video_name)\n",
    "    image_directory = os.path.join(video_directory, str(image_index))\n",
    "    #mask = 255 * np.load(os.path.join(image_directory,\"mask.npy\"),allow_pickle = True)\n",
    "    #mask = mask.astype(np.uint8)\n",
    "    final = load_RGB(os.path.join(image_directory,\"final.jpg\"))\n",
    "    box = load_RGB(os.path.join(image_directory,\"box.jpg\"))\n",
    "    garmin_directory = os.path.join(video_directory, \"garmin\")\n",
    "    saliency_directory = os.path.join(video_directory, \"saliency\")\n",
    "    #print(dataset, video_directory, image_directory, garmin_directory, saliency_directory)\n",
    "    garmin_image = load_RGB(os.path.join(garmin_directory,str(image_index) + \".jpg\"))\n",
    "    saliency_image = cv2.cvtColor(cv2.imread(os.path.join(saliency_directory,str(image_index) + \".jpg\"),cv2.IMREAD_UNCHANGED),cv2.COLOR_BGR2GRAY)\n",
    "    #print(saliency_image.shape)\n",
    "    #print(mask.shape)\n",
    "    #print(mask.min(),mask.max())\n",
    "    #mask = mask / mask.max()\n",
    "    #print(mask.dtype)\n",
    "    #mask = mask.astype(np.float32)\n",
    "    #mask = saliency_image.astype(np.float32) / 255\n",
    "    #mask = saliency_image.astype(np.float32)\n",
    "    #print(saliency_image.max(),saliency_image.min())\n",
    "    return final,box,garmin_image,saliency_image\n",
    "def show_images(images):\n",
    "    d = len(images) // 2\n",
    "    if len(images) % 2 == 1:\n",
    "        d += 1\n",
    "    fig = plt.figure(figsize = (40,40))\n",
    "    cnt = 1\n",
    "    for i in range(len(images)):\n",
    "        #print(d,2,cnt)\n",
    "        \n",
    "        fig.add_subplot(d,2,cnt)\n",
    "        cnt += 1\n",
    "        img = images[i]\n",
    "        print(img.shape)\n",
    "        print(img.max(),img.min())\n",
    "        if len(img.shape) == 2:\n",
    "            plt.imshow(img,cmap = 'gray')\n",
    "        else:\n",
    "            plt.imshow(img)\n",
    "    "
   ]
  },
  {
   "cell_type": "code",
   "execution_count": 12,
   "id": "8f3e1fb8-219c-4b72-89fb-d0fc2874d83b",
   "metadata": {},
   "outputs": [
    {
     "ename": "NameError",
     "evalue": "name 'final_box' is not defined",
     "output_type": "error",
     "traceback": [
      "\u001b[0;31m---------------------------------------------------------------------------\u001b[0m",
      "\u001b[0;31mNameError\u001b[0m                                 Traceback (most recent call last)",
      "\u001b[0;32m/tmp/ipykernel_32556/2020593566.py\u001b[0m in \u001b[0;36m<module>\u001b[0;34m\u001b[0m\n\u001b[1;32m      1\u001b[0m \u001b[0mdataset_directory\u001b[0m \u001b[0;34m=\u001b[0m \u001b[0;34m\"./../DREYEVE_DATA_OUTPUTS/\"\u001b[0m\u001b[0;34m\u001b[0m\u001b[0;34m\u001b[0m\u001b[0m\n\u001b[1;32m      2\u001b[0m \u001b[0mfinal\u001b[0m\u001b[0;34m,\u001b[0m\u001b[0mbox\u001b[0m\u001b[0;34m,\u001b[0m\u001b[0mgarmin_image\u001b[0m\u001b[0;34m,\u001b[0m\u001b[0msaliency_image\u001b[0m \u001b[0;34m=\u001b[0m \u001b[0mget_images\u001b[0m\u001b[0;34m(\u001b[0m\u001b[0mdataset_directory\u001b[0m\u001b[0;34m,\u001b[0m\u001b[0;36m1\u001b[0m\u001b[0;34m,\u001b[0m\u001b[0;36m190\u001b[0m\u001b[0;34m)\u001b[0m\u001b[0;34m\u001b[0m\u001b[0;34m\u001b[0m\u001b[0m\n\u001b[0;32m----> 3\u001b[0;31m \u001b[0mshow_images\u001b[0m\u001b[0;34m(\u001b[0m\u001b[0;34m[\u001b[0m\u001b[0mfinal_box\u001b[0m\u001b[0;34m,\u001b[0m\u001b[0mgarmin_image\u001b[0m\u001b[0;34m,\u001b[0m\u001b[0msaliency_image\u001b[0m\u001b[0;34m]\u001b[0m\u001b[0;34m)\u001b[0m\u001b[0;34m\u001b[0m\u001b[0;34m\u001b[0m\u001b[0m\n\u001b[0m",
      "\u001b[0;31mNameError\u001b[0m: name 'final_box' is not defined"
     ]
    }
   ],
   "source": [
    "dataset_directory = \"./../DREYEVE_DATA_OUTPUTS/\"\n",
    "final,box,garmin_image,saliency_image = get_images(dataset_directory,1,190)\n",
    "show_images([final,box,garmin_image,saliency_image])\n"
   ]
  },
  {
   "cell_type": "code",
   "execution_count": null,
   "id": "0fd2c85f-1d8e-4971-a2e2-ea00547eaf05",
   "metadata": {},
   "outputs": [],
   "source": []
  }
 ],
 "metadata": {
  "kernelspec": {
   "display_name": "Python 3 (ipykernel)",
   "language": "python",
   "name": "python3"
  },
  "language_info": {
   "codemirror_mode": {
    "name": "ipython",
    "version": 3
   },
   "file_extension": ".py",
   "mimetype": "text/x-python",
   "name": "python",
   "nbconvert_exporter": "python",
   "pygments_lexer": "ipython3",
   "version": "3.7.13"
  }
 },
 "nbformat": 4,
 "nbformat_minor": 5
}
